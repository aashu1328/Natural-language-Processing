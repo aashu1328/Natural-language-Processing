{
  "nbformat": 4,
  "nbformat_minor": 0,
  "metadata": {
    "colab": {
      "name": "NLP_3_Spacy_HW.ipynb",
      "provenance": [],
      "collapsed_sections": [],
      "include_colab_link": true
    },
    "kernelspec": {
      "name": "python3",
      "display_name": "Python 3"
    }
  },
  "cells": [
    {
      "cell_type": "markdown",
      "metadata": {
        "id": "view-in-github",
        "colab_type": "text"
      },
      "source": [
        "<a href=\"https://colab.research.google.com/github/aashu1328/Natural-language-Processing/blob/master/NLP_3_Spacy_HW.ipynb\" target=\"_parent\"><img src=\"https://colab.research.google.com/assets/colab-badge.svg\" alt=\"Open In Colab\"/></a>"
      ]
    },
    {
      "cell_type": "code",
      "metadata": {
        "id": "OJByziZGST_O",
        "colab_type": "code",
        "colab": {}
      },
      "source": [
        "import spacy\n",
        "sp=spacy.load('en_core_web_sm')"
      ],
      "execution_count": 0,
      "outputs": []
    },
    {
      "cell_type": "code",
      "metadata": {
        "id": "W3zJuExWSxwX",
        "colab_type": "code",
        "outputId": "08fda62d-7666-417c-8c7b-752f0b78eb8c",
        "colab": {
          "base_uri": "https://localhost:8080/",
          "height": 225
        }
      },
      "source": [
        "sentence=sp(u'Manchester United is looking to sign a forward for $90 million')\n",
        "for word in sentence:\n",
        "  print(word.text)"
      ],
      "execution_count": 0,
      "outputs": [
        {
          "output_type": "stream",
          "text": [
            "Manchester\n",
            "United\n",
            "is\n",
            "looking\n",
            "to\n",
            "sign\n",
            "a\n",
            "forward\n",
            "for\n",
            "$\n",
            "90\n",
            "million\n"
          ],
          "name": "stdout"
        }
      ]
    },
    {
      "cell_type": "code",
      "metadata": {
        "id": "J720L0GbTCdf",
        "colab_type": "code",
        "outputId": "9386d0f6-2596-4c3c-b49a-6a9ac4807e65",
        "colab": {
          "base_uri": "https://localhost:8080/",
          "height": 225
        }
      },
      "source": [
        "for word in sentence:\n",
        "  print(word.text,word.pos_)"
      ],
      "execution_count": 0,
      "outputs": [
        {
          "output_type": "stream",
          "text": [
            "Manchester PROPN\n",
            "United PROPN\n",
            "is VERB\n",
            "looking VERB\n",
            "to PART\n",
            "sign VERB\n",
            "a DET\n",
            "forward NOUN\n",
            "for ADP\n",
            "$ SYM\n",
            "90 NUM\n",
            "million NUM\n"
          ],
          "name": "stdout"
        }
      ]
    },
    {
      "cell_type": "code",
      "metadata": {
        "id": "tMoi3GNnT3G6",
        "colab_type": "code",
        "outputId": "46dcbb0b-a8e0-4207-fea6-7d8ce4bed546",
        "colab": {
          "base_uri": "https://localhost:8080/",
          "height": 225
        }
      },
      "source": [
        "for word in sentence:\n",
        "  print(word.text,word.pos_,word.dep_)"
      ],
      "execution_count": 0,
      "outputs": [
        {
          "output_type": "stream",
          "text": [
            "Manchester PROPN compound\n",
            "United PROPN nsubj\n",
            "is VERB aux\n",
            "looking VERB ROOT\n",
            "to PART aux\n",
            "sign VERB xcomp\n",
            "a DET det\n",
            "forward NOUN advmod\n",
            "for ADP prep\n",
            "$ SYM quantmod\n",
            "90 NUM compound\n",
            "million NUM pobj\n"
          ],
          "name": "stdout"
        }
      ]
    },
    {
      "cell_type": "code",
      "metadata": {
        "id": "0vx0iDczT8zF",
        "colab_type": "code",
        "outputId": "28cbd609-1e65-43af-f9ed-fa0d77ff287b",
        "colab": {
          "base_uri": "https://localhost:8080/",
          "height": 87
        }
      },
      "source": [
        "sentence6 = sp(u'compute computer computed computing')\n",
        "for word in sentence6:\n",
        "    print(word.text,  word.lemma_)"
      ],
      "execution_count": 0,
      "outputs": [
        {
          "output_type": "stream",
          "text": [
            "compute compute\n",
            "computer computer\n",
            "computed compute\n",
            "computing computing\n"
          ],
          "name": "stdout"
        }
      ]
    },
    {
      "cell_type": "code",
      "metadata": {
        "id": "ynzqTrxMVTib",
        "colab_type": "code",
        "outputId": "87472641-369d-43ad-b3c6-af42dfaa4245",
        "colab": {
          "base_uri": "https://localhost:8080/",
          "height": 69
        }
      },
      "source": [
        "document = sp(u'Hello from Stackabuse. The site with the best Python Tutorials. What are you looking for?')\n",
        "for sentence in document.sents:\n",
        "    print(sentence)"
      ],
      "execution_count": 0,
      "outputs": [
        {
          "output_type": "stream",
          "text": [
            "Hello from Stackabuse.\n",
            "The site with the best Python Tutorials.\n",
            "What are you looking for?\n"
          ],
          "name": "stdout"
        }
      ]
    },
    {
      "cell_type": "code",
      "metadata": {
        "id": "k_BMuGvKVfiz",
        "colab_type": "code",
        "outputId": "63f3d601-d13b-4a14-ee8e-6ec64c368537",
        "colab": {
          "base_uri": "https://localhost:8080/",
          "height": 329
        }
      },
      "source": [
        " for token in document:\n",
        "    print(token.text, token.lemma_, token.pos_, token.tag_, token.dep_,\n",
        "            token.shape_, token.is_alpha, token.is_stop)"
      ],
      "execution_count": 0,
      "outputs": [
        {
          "output_type": "stream",
          "text": [
            "Hello hello INTJ UH ROOT Xxxxx True False\n",
            "from from ADP IN prep xxxx True True\n",
            "Stackabuse Stackabuse PROPN NNP pobj Xxxxx True False\n",
            ". . PUNCT . punct . False False\n",
            "The the DET DT det Xxx True True\n",
            "site site NOUN NN ROOT xxxx True False\n",
            "with with ADP IN prep xxxx True True\n",
            "the the DET DT det xxx True True\n",
            "best good ADJ JJS amod xxxx True False\n",
            "Python Python PROPN NNP compound Xxxxx True False\n",
            "Tutorials Tutorials PROPN NNPS pobj Xxxxx True False\n",
            ". . PUNCT . punct . False False\n",
            "What what PRON WP pobj Xxxx True True\n",
            "are be VERB VBP aux xxx True True\n",
            "you -PRON- PRON PRP nsubj xxx True True\n",
            "looking look VERB VBG ROOT xxxx True False\n",
            "for for ADP IN prep xxx True True\n",
            "? ? PUNCT . punct ? False False\n"
          ],
          "name": "stdout"
        }
      ]
    },
    {
      "cell_type": "code",
      "metadata": {
        "id": "gK-NK3U0aLJJ",
        "colab_type": "code",
        "colab": {}
      },
      "source": [
        "import pandas as pd \n",
        "df=pd.read_json(\"http://snap.stanford.edu/data/amazon/productGraph/categoryFiles/reviews_Office_Products_5.json.gz\",lines= True,orient='values')\n",
        "df1=df.reviewText[1]"
      ],
      "execution_count": 0,
      "outputs": []
    },
    {
      "cell_type": "code",
      "metadata": {
        "id": "IRwjkvQue75u",
        "colab_type": "code",
        "colab": {}
      },
      "source": [
        "def pipe(text):\n",
        "  final={}\n",
        "  depend=[]\n",
        "  word=' '.join([token.text for token in sp(text)])\n",
        "  lemmatize=' '.join([word.lemma_ for word in sp(text)])\n",
        "  adj_dict=dict([(word.text,word.pos_) for word in sp(text)])\n",
        "  adj=' '.join([word for word in adj_dict if adj_dict[word]=='ADJ'])\n",
        "  final={'tokens':word,'lemma':lemmatize,'adjective':adj}\n",
        "  return final \n",
        "  "
      ],
      "execution_count": 0,
      "outputs": []
    },
    {
      "cell_type": "code",
      "metadata": {
        "id": "iAYdJDMpfk-N",
        "colab_type": "code",
        "colab": {
          "base_uri": "https://localhost:8080/",
          "height": 89
        },
        "outputId": "a0f65b7c-0acb-470b-f6b6-13d4b410be18"
      },
      "source": [
        "pipe(df1)"
      ],
      "execution_count": 37,
      "outputs": [
        {
          "output_type": "execute_result",
          "data": {
            "text/plain": [
              "{'adjective': 'BELATED obliged old 25th satisfied frank 1st Anniversary 3rd non techkie synonymous highest best electronic financial first personal standard other golden matured longest unchanged indispensable portable handy faster right serious ultimate rival continued amusing disappointing least major futile frustrating rightful GOLDEN OBSOLETE.GOLDEN same paramount ALWAYS OWN ardent scientific genuine fair silver nice 50th lucrative original upmost',\n",
              " 'lemma': 'why this belated review ? -PRON- feel very obliged to share -PRON- view about this old workhorse , the hp12c gold at -PRON- 25th anniversary and -PRON- 1oth year as a satisfied ower user and fan . especially after share -PRON- frank view on Amazon about two of -PRON- three successor on Amazon.com , bury the HP12c Platinum ( 2004 1st release , HP12cP ) and praise the HP12c Platiunum Anniversary Edition ( 2006 3rd release , hp12cpae or hp12cpa).to the majority of HP 12c calculator owner and fan , include the non - techkie nerd like -PRON- , the name Hewlett - Packard to the majority of HP 12c calculator owner and fan . the brandname of Hewlett - Packard be synonymous with the high quality and good range offer in handheld electronic business financial calculator before the first generation of personal computer hit the desktop of business user . to date ( December 2007 ) , the bearer of this \" gold \" standard be none other than the hp12c HP \\'s \" golden boy \" in -PRON- calculator business segment . the hp12c now a matured product , be the only continue HP handheld survive calculator product since \\' 81 and probably the long sell electronic calculator ever . accord to HP almost 15 million HP 12c , cp be sell since , -PRON- be probably the good sell HP ( and RPN ) calculator ever . as a prove product , the hp12c \" gold \" work from day 1 , with -PRON- form factor and sofware remain unchanged and have not be dethrone by rival and even -PRON- HP successor which have come and go . even with pc software version be sell , the 12c remain the truly indispensable \" portable \" finance - business heldheld computer for -PRON- owner , professional and student alike . this handy companion power up immediately and be fast than any portable personal computer to jump right into the action . the hp12c be a serious product and the ultimate time test solution , field test prove by -PRON- user and survive all -PRON- rival product , the workhorse move on . Anyone in charge of this HP line should always bear in mind that the continued production run of the HP 12c be a testimony of HP \\'s quality and standard expect by -PRON- customer . don\\'t just listen to a hp12c fan here , -PRON- own and be use three out of 4 model of the HP 12c series , and -PRON- be amusing and somewhat disappointing to observe that -PRON- have take HP at least four year and two major upgrade of the HP 12c Platinium , in -PRON- futile attempt to \" fix & retire \" the hp12c with three successor in the form of HP12cPlatinum since 2004.it would seem especially frustrating on the part of HP , to realize after all the effort spend on remake the hp12cplatinum model that -PRON- would not outdone -PRON- sibling the HP10bII and hp17bii+ series to seriously challenge the hp12c Gold .   however , by -PRON- own right the HP10Bs and HP17Bs , and the hp12cplatinum may find -PRON- rightful place in the HP financial calculator line , differentiate the hp12c gold in term of price and function . IMHO , this have happen because the follow golden rule be infringe by HP ... GOLDEN RULE I - a product which still sells itself be never obsolete.golden RULE II - if it AREN\\'T BROKEN , DON\\'t FIX it ! \" the gold rule of thumb should always be guard as gospel by the HP heldheld calculator product team . base on the same reasoning , the hp12c \\'s build quality and product standard be paramount to -PRON- user . GOLDEN RULE III - always LISTEN to your customer ! if in doubt , see rule -PRON- & II.GOLDEN RULE IV - ONLY OUTSOURCE the manufacturing of your product to someone who COULD better your own product quality . if in doubt ask IBM about Lenovo . GOLDEN RULE V - the benchmarking industry STANDARD for this product line be the HP12C. just in case , if HP do not know or be not listen to -PRON- customer . golden RULE VI - do not discontinue the iconic hp12c gold . HP need no reminder that the customer be always right . please let -PRON- customer , the ultimate market force decide if the hp12c should ever be retire . as an ardent fan of hp12c and line of financial business & scientific calculator , -PRON- be of the view that the day when HP discontinue the hp12c would be the day -PRON- exit this business segment . -PRON- speculate this would happen when the HP brandname disappear from the 12c just like after IBM name have disappear from ThinkPads and ThinkCentres . since the price of gold be on the rise , -PRON- be indeed puzzle to fan of the hp12c , why HP do not release a genuine hp12c gold 25th anniversary model for the fan to mark the occasion , if replace the discontinuing the hp12c gold be the intention READ all golden rule above . to be fair , the silver HP12c Platinum Anniversary be very nice and have spot the \" retro \" silver look of the HP 11c , however , -PRON- be still not the gold standard . with HP miss this golden opportunity to mark the occasion , -PRON- would love to see and own a HP 12c engrave with 50th anniversary logo , reckon that this would be the ultimate testimony for the hp12c and a milestone for -PRON- fan . look forward , a gold 50th anniversary hp12c anniversary model would be very nice for the fan . for HP , this be a lucrative business proposition . by now , -PRON- would have realize that if -PRON- have any of -PRON- product which could hit a 50th year home run   in 2031 , -PRON- would not be from -PRON- other product line - -PRON- would be this original hp12c gold standard bearer . so please treat the old workhorse with the upmost respect !',\n",
              " 'tokens': 'WHY THIS BELATED REVIEW ? I feel very obliged to share my views about this old workhorse , the HP12C GOLD at its 25th anniversary and my 1Oth year as a satisfied ower user and fan . Especially after sharing my frank views on Amazon about two of its three successors on Amazon.com , burying the HP12c Platinum ( 2004 1st release , HP12cP ) and praising the HP12c Platiunum Anniversary Edition ( 2006 3rd release , HP12cPAE or HP12cPA).To the majority of HP 12c calculator owners and fans , including the non - techkie nerd like myself , the name Hewlett - Packard To the majority of HP 12c calculator owners and fans . The brandname of Hewlett - Packard is synonymous with the highest quality and best range offered in handheld electronic business financial calculators before the first generation of personal computers hits the desktops of business users . To date ( December 2007 ) , the bearer of this \" gold \" standard is none other than the HP12C HP \\'s \" golden boy \" in its calculator business segment . The HP12C now a matured product , is the only continuing HP handheld surviving calculator product since \\' 81 and probably the longest selling electronic calculator ever . According to HP almost 15 million HP 12Cs , cPs was sold since , it is probably the best selling HP ( and RPN ) calculator ever . As a proven product , the HP12C \" gold \" works from day 1 , with its form factor and sofware remaining unchanged and has not been dethroned by rivals and even its HP successors which had come and go . Even with PC software versions being sold , the 12C remains the truly indispensable \" portable \" finance - business heldheld computer for its owners , professionals and students alike . This handy companion powers up immediately and is faster than any portable personal computers to jump right into the action . The HP12C is a serious product and the ultimate time tested solution , field tested proven by its users and survived all its rival products , the workhorse moves on . Anyone in charge of this HP line should always bear in mind that the continued production run of the HP 12c is a testimony of HP \\'s quality and standard expected by its customers . Don\\'t just listen to a HP12C fan here , I own and am using three out of 4 models of the HP 12C series , and it is amusing and somewhat disappointing to observe that it had taken HP at least four years and two major upgrades of the HP 12c Platinium , in its futile attempt to \" fix & retire \" the HP12C with three successors in the form of HP12cPlatinum since 2004.It would seems especially frustrating on the part of HP , to realize after all the effort spent on remaking the HP12cPlatinum models that it would not outdone its siblings the HP10bII and HP17bII+ series to seriously challenge the HP12C Gold .   However , by their own rights the HP10Bs and HP17Bs , and the HP12cPlatinum may find their rightful place in the HP financial calculator line , differentiating the HP12C GOLD in terms of price and functions . IMHO , this had happened because the following golden rules were infringed by HP ... GOLDEN RULE I - A PRODUCT WHICH STILL SELLS ITSELF IS NEVER OBSOLETE.GOLDEN RULE II - IF IT AREN\\'T BROKEN , DON\\'t FIX IT ! \" The gold rule of thumb should always be guarded as gospel by the HP heldheld calculator product team . Based on the same reasoning , the HP12C \\'s built quality and product standard is paramount to its users . GOLDEN RULE III - ALWAYS LISTEN TO YOUR CUSTOMERS ! If in doubt , see rules I & II.GOLDEN RULE IV - ONLY OUTSOURCE THE MANUFACTURING OF YOUR PRODUCT TO SOMEONE WHO COULD BETTER YOUR OWN PRODUCT QUALITY . If in doubt ask IBM about Lenovo . GOLDEN RULE V - THE BENCHMARKING INDUSTRY STANDARD FOR THIS PRODUCT LINE IS THE HP12C. Just in case , if HP does not know or is not listening to its customers . GOLDEN RULE VI - DO NOT DISCONTINUE THE ICONIC HP12C GOLD . HP needs no reminder that the customer is always right . Please let your customer , the ultimate market force decide if the HP12C should ever be retired . As an ardent fan of HP12C and line of financial business & scientific calculators , I am of the view that the day when HP discontinue the HP12C would be the day it exit this business segment . I speculate this would happen when the HP brandname disappears from the 12C just like after IBM name had disappeared from ThinkPads and ThinkCentres . Since the price of GOLD is on the rise , it is indeed puzzling to fans of the HP12C , why HP did not release a genuine HP12C gold 25th anniversary model for the fans to mark the occasion , if replacing the discontinuing the HP12C GOLD is the intention READ ALL GOLDEN RULES above . To be fair , the silver HP12c Platinum Anniversary is very nice and has spotted the \" retro \" silver look of the HP 11C , however , it is still not the GOLD standard . With HP missing this golden opportunity to mark the occasion , I would love to see and own a HP 12C engraved with 50th Anniversary logo , reckon that this would be the ultimate testimony for the HP12C and a milestone for its fans . Looking forward , a GOLD 50th anniversary HP12C Anniversary model would be very nice for the fans . For HP , this is a lucrative business proposition . By now , they would have realized that if they have any of its products which could hit a 50th year home run   in 2031 , it would not be from its other product line - it would be this original HP12C GOLD standard bearer . So please treat the old workhorse with the upmost respect !'}"
            ]
          },
          "metadata": {
            "tags": []
          },
          "execution_count": 37
        }
      ]
    },
    {
      "cell_type": "code",
      "metadata": {
        "id": "lysCQtpF5XlA",
        "colab_type": "code",
        "colab": {}
      },
      "source": [
        ""
      ],
      "execution_count": 0,
      "outputs": []
    }
  ]
}
