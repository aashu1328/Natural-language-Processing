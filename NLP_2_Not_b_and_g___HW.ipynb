{
  "nbformat": 4,
  "nbformat_minor": 0,
  "metadata": {
    "colab": {
      "name": "NLP_2_Not b and g _ HW.ipynb",
      "provenance": [],
      "collapsed_sections": [],
      "include_colab_link": true
    },
    "kernelspec": {
      "name": "python3",
      "display_name": "Python 3"
    }
  },
  "cells": [
    {
      "cell_type": "markdown",
      "metadata": {
        "id": "view-in-github",
        "colab_type": "text"
      },
      "source": [
        "<a href=\"https://colab.research.google.com/github/aashu1328/Natural-language-Processing/blob/master/NLP_2_Not_b_and_g___HW.ipynb\" target=\"_parent\"><img src=\"https://colab.research.google.com/assets/colab-badge.svg\" alt=\"Open In Colab\"/></a>"
      ]
    },
    {
      "cell_type": "code",
      "metadata": {
        "id": "Fx0Q_NxpGg1B",
        "colab_type": "code",
        "colab": {}
      },
      "source": [
        "import pandas as pd \n",
        "data=pd.read_json(\"http://snap.stanford.edu/data/amazon/productGraph/categoryFiles/reviews_Office_Products_5.json.gz\",lines= True,orient='values')"
      ],
      "execution_count": 0,
      "outputs": []
    },
    {
      "cell_type": "code",
      "metadata": {
        "id": "3zvWpPhNIhDd",
        "colab_type": "code",
        "colab": {
          "base_uri": "https://localhost:8080/",
          "height": 55
        },
        "outputId": "d394d18c-8eff-4b48-c9c5-745cb632d47b"
      },
      "source": [
        "import re\n",
        "text=data.iloc[1].reviewText\n",
        "text"
      ],
      "execution_count": 2,
      "outputs": [
        {
          "output_type": "execute_result",
          "data": {
            "text/plain": [
              "'WHY THIS BELATED REVIEW? I feel very obliged to share my views about this old workhorse, the HP12C GOLD at its 25th anniversary and my 1Oth year as a satisfied ower user and fan. Especially after sharing my frank views on Amazon about two of its three successors on Amazon.com, burying the HP12c Platinum (2004 1st release, HP12cP) and praising the HP12c Platiunum Anniversary Edition (2006 3rd release, HP12cPAE or HP12cPA).To the majority of HP 12c calculator owners and fans, including the non-techkie nerd like myself, the name Hewlett-Packard To the majority of HP 12c calculator owners and fans. The brandname of Hewlett-Packard is synonymous with the highest quality and best range offered in handheld electronic business financial calculators before the first generation of personal computers hits the desktops of business users.To date (December 2007), the bearer of this \"gold\" standard is none other than the HP12C HP\\'s \"golden boy\" in its calculator business segment.The HP12C now a matured product, is the only continuing HP handheld surviving calculator product since \\'81 and probably the longest selling electronic calculator ever. According to HP almost 15 million HP 12Cs, cPs was sold since ,it is probably the best selling HP (and RPN) calculator ever.As a proven product, the HP12C \"gold\" works from day 1, with its form factor and sofware remaining unchanged and has not been dethroned by rivals and even its HP successors which had come and go.Even with PC software versions being sold, the 12C remains the truly indispensable \"portable\" finance-business heldheld computer for its owners, professionals and students alike. This handy companion powers up immediately and is faster than any portable personal computers to jump right into the action.The HP12C is a serious product and the ultimate time tested solution, field tested proven by its users and survived all its rival products, the workhorse moves on.Anyone in charge of this HP line should always bear in mind that the continued production run of the HP 12c is a testimony of HP\\'s quality and standard expected by its customers.Don\\'t just listen to a HP12C fan here, I own and am using three out of 4 models of the HP 12C series, and it is amusing and somewhat disappointing to observe that it had taken HP at least four years and two major upgrades of the HP 12c Platinium, in its futile attempt to \"fix & retire\" the HP12C with three successors in the form of HP12cPlatinum since 2004.It would seems especially frustrating on the part of HP, to realize after all the effort spent on remaking the HP12cPlatinum models that it would not outdone its siblings the HP10bII and HP17bII+ series to seriously challenge the HP12C Gold.  However, by their own rights the HP10Bs and HP17Bs, and the HP12cPlatinum may find their rightful place in the HP financial calculator line, differentiating the HP12C GOLD in terms of price and functions.IMHO, this had happened because the following golden rules were infringed by HP...GOLDEN RULE I - A PRODUCT WHICH STILL SELLS ITSELF IS NEVER OBSOLETE.GOLDEN RULE II - IF IT AREN\\'T BROKEN, DON\\'t FIX IT ! \"The gold rule of thumb should always be guarded as gospel by the HP heldheld calculator product team. Based on the same reasoning, the HP12C\\'s built quality and product standard is paramount to its users.GOLDEN RULE III - ALWAYS LISTEN TO YOUR CUSTOMERS! If in doubt, see rules I & II.GOLDEN RULE IV - ONLY OUTSOURCE THE MANUFACTURING OF YOUR PRODUCT TO SOMEONE WHO COULD BETTER YOUR OWN PRODUCT QUALITY. If in doubt ask IBM about Lenovo.GOLDEN RULE V - THE BENCHMARKING INDUSTRY STANDARD FOR THIS PRODUCT LINE IS THE HP12C. Just in case, if HP does not know or is not listening to its customers.GOLDEN RULE VI - DO NOT DISCONTINUE THE ICONIC HP12C GOLD. HP needs no reminder that the customer is always right. Please let your customer, the ultimate market force decide if the HP12C should ever be retired.As an ardent fan of HP12C and line of financial business & scientific calculators, I am of the view that the day when HP discontinue the HP12C would be the day it exit this business segment. I speculate this would happen when the HP brandname disappears from the 12C just like after IBM name had disappeared from ThinkPads and ThinkCentres.Since the price of GOLD is on the rise, it is indeed puzzling to fans of the HP12C, why HP did not release a genuine HP12C gold 25th anniversary model for the fans to mark the occasion, if replacing the discontinuing the HP12C GOLD is the intention READ ALL GOLDEN RULES above.To be fair, the silver HP12c Platinum Anniversary is very nice and has spotted the \"retro\" silver look of the HP 11C, however, it is still not the GOLD standard. With HP missing this golden opportunity to mark the occasion, I would love to see and own a HP 12C engraved with 50th Anniversary logo, reckon that this would be the ultimate testimony for the HP12C and a milestone for its fans.Looking forward, a GOLD 50th anniversary HP12C Anniversary model would be very nice for the fans.For HP, this is a lucrative business proposition. By now, they would have realized that if they have any of its products which could hit a 50th year home run  in 2031, it would not be from its other product line-it would be this original HP12C GOLD standard bearer. So please treat the old workhorse with the upmost respect!'"
            ]
          },
          "metadata": {
            "tags": []
          },
          "execution_count": 2
        }
      ]
    },
    {
      "cell_type": "code",
      "metadata": {
        "id": "iUE6ea1wIsmW",
        "colab_type": "code",
        "colab": {
          "base_uri": "https://localhost:8080/",
          "height": 55
        },
        "outputId": "b31d69c9-c883-49bb-8ddc-9b6ecfc4374a"
      },
      "source": [
        "y = re.findall(r\"\\b\\W\\^bB\\w+\\b | \\b\\w+[^gG]\\W\\b\",text)\n",
        "print(y)"
      ],
      "execution_count": 3,
      "outputs": [
        {
          "output_type": "stream",
          "text": [
            "[' THIS ', ' REVIEW? ', ' feel ', ' obliged ', ' share ', ' views ', ' this ', ' workhorse, ', ' HP12C ', ' at ', ' 25th ', ' and ', ' 1Oth ', ' as ', ' satisfied ', ' user ', ' fan. ', ' after ', ' my ', ' views ', ' Amazon ', ' two ', ' its ', ' successors ', ' Amazon.', ' the ', ' Platinum (', ' 1st ', ' HP12cP) ', ' the ', ' Platiunum ', ' Edition (', ' 3rd ', ' HP12cPAE ', ' HP12cPA).', ' the ', ' of ', ' 12c ', ' owners ', ' fans, ', ' the ', ' nerd ', ' myself, ', ' name ', ' To ', ' majority ', ' HP ', ' calculator ', ' and ', ' The ', ' of ', ' is ', ' with ', ' highest ', ' and ', ' range ', ' in ', ' electronic ', ' financial ', ' before ', ' first ', ' of ', ' computers ', ' the ', ' of ', ' users.', ' date (', ' the ', ' of ', ' standard ', ' none ', ' than ', ' HP12C ', ' boy\" ', ' its ', ' business ', ' HP12C ', ' matured ', ' is ', ' only ', ' HP ', ' calculator ', \" since '\", ' and ', ' the ', ' electronic ', ' ever. ', ' to ', ' almost ', ' million ', ' 12Cs, ', ' was ', ' since ,', ' is ', ' the ', ' HP (', ' RPN) ', ' ever.', ' proven ', ' the ', ' works ', ' day ', ' with ', ' form ', ' and ', ' unchanged ', ' has ', ' been ', ' by ', ' and ', ' its ', ' successors ', ' had ', ' and ', ' with ', ' software ', ' sold, ', ' 12C ', ' the ', ' indispensable \"', ' finance-', ' heldheld ', ' for ', ' owners, ', ' and ', ' alike. ', ' handy ', ' powers ', ' immediately ', ' is ', ' than ', ' portable ', ' computers ', ' jump ', ' into ', ' action.', ' HP12C ', ' serious ', ' and ', ' ultimate ', ' tested ', ' field ', ' proven ', ' its ', ' and ', ' all ', ' rival ', ' the ', ' moves ', ' in ', ' of ', ' HP ', ' should ', ' bear ', ' mind ', ' the ', ' production ', ' of ', ' HP ', ' is ', ' testimony ', \" HP'\", ' quality ', ' standard ', ' by ', ' customers.', ' just ', ' to ', ' HP12C ', ' here, ', ' own ', ' am ', ' three ', ' of ', ' models ', ' the ', ' 12C ', ' and ', ' is ', ' and ', ' to ', ' that ', ' had ', ' HP ', ' least ', ' years ', ' two ', ' upgrades ', ' the ', ' 12c ', ' in ', ' futile ', ' to \"', ' retire\" ', ' HP12C ', ' three ', ' in ', ' form ', ' HP12cPlatinum ', ' 2004.', ' would ', ' especially ', ' on ', ' part ', ' HP, ', ' realize ', ' all ', ' effort ', ' on ', ' the ', ' models ', ' it ', ' not ', ' its ', ' the ', ' and ', ' series ', ' seriously ', ' the ', ' However, ', ' their ', ' rights ', ' HP10Bs ', ' HP17Bs, ', ' the ', ' may ', ' their ', ' place ', ' the ', ' financial ', ' line, ', ' the ', ' GOLD ', ' terms ', ' price ', ' functions.', ' this ', ' happened ', ' the ', ' golden ', ' were ', ' by ', ' RULE ', ' PRODUCT ', ' STILL ', ' ITSELF ', ' NEVER ', ' RULE ', ' IF ', \" AREN'\", ' BROKEN, ', ' FIX ', ' gold ', ' of ', ' should ', ' be ', ' as ', ' by ', ' HP ', ' calculator ', ' team. ', ' on ', ' same ', ' the ', ' built ', ' and ', ' standard ', ' paramount ', ' its ', ' RULE ', ' ALWAYS ', ' TO ', ' CUSTOMERS! ', ' in ', ' see ', ' II.', ' RULE ', ' ONLY ', ' THE ', ' OF ', ' PRODUCT ', ' SOMEONE ', ' COULD ', ' YOUR ', ' PRODUCT ', ' If ', ' doubt ', ' IBM ', ' Lenovo.', ' RULE ', ' THE ', ' INDUSTRY ', ' FOR ', ' PRODUCT ', ' IS ', ' HP12C. ', ' in ', ' if ', ' does ', ' know ', ' is ', ' to ', ' customers.', ' RULE ', ' DO ', ' DISCONTINUE ', ' ICONIC ', ' GOLD. ', ' needs ', ' reminder ', ' the ', ' is ', ' right. ', ' let ', ' customer, ', ' ultimate ', ' force ', ' if ', ' HP12C ', ' ever ', ' retired.', ' an ', ' fan ', ' HP12C ', ' line ', ' financial ', ' scientific ', ' am ', ' the ', ' that ', ' day ', ' HP ', ' the ', ' would ', ' the ', ' it ', ' this ', ' segment. ', ' speculate ', ' would ', ' when ', ' HP ', ' disappears ', ' the ', ' just ', ' after ', ' name ', ' disappeared ', ' ThinkPads ', ' ThinkCentres.', ' the ', ' of ', ' is ', ' the ', ' it ', ' indeed ', ' to ', ' of ', ' HP12C, ', ' HP ', ' not ', ' genuine ', ' gold ', ' anniversary ', ' for ', ' fans ', ' mark ', ' occasion, ', ' the ', ' the ', ' GOLD ', ' the ', ' READ ', ' GOLDEN ', ' above.', ' be ', ' the ', ' HP12c ', ' Anniversary ', ' very ', ' and ', ' spotted ', ' silver ', ' of ', ' HP ', ' however, ', ' is ', ' not ', ' GOLD ', ' With ', ' this ', ' opportunity ', ' mark ', ' occasion, ', ' would ', ' to ', ' and ', ' HP ', ' engraved ', ' 50th ', ' logo, ', ' that ', ' would ', ' the ', ' testimony ', ' the ', ' and ', ' milestone ', ' its ', ' forward, ', ' GOLD ', ' anniversary ', ' Anniversary ', ' would ', ' very ', ' for ', ' fans.', ' HP, ', ' is ', ' lucrative ', ' proposition. ', ' now, ', ' would ', ' realized ', ' if ', ' have ', ' of ', ' products ', ' could ', ' 50th ', ' home ', ' in ', ' it ', ' not ', ' from ', ' other ', ' line-', ' would ', ' this ', ' HP12C ', ' standard ', ' So ', ' treat ', ' old ', ' with ', ' upmost ']\n"
          ],
          "name": "stdout"
        }
      ]
    },
    {
      "cell_type": "code",
      "metadata": {
        "id": "CqERejsSIxGG",
        "colab_type": "code",
        "colab": {
          "base_uri": "https://localhost:8080/",
          "height": 55
        },
        "outputId": "bb4612b6-3b6d-43e7-8c82-2b1dc900910a"
      },
      "source": [
        "x = re.findall(r\"\\b\\S\\^bB\\w+\\b | \\b\\w+[^gG]\\S\\b\",text)\n",
        "print(x)"
      ],
      "execution_count": 4,
      "outputs": [
        {
          "output_type": "stream",
          "text": [
            "[' THIS', ' BELATED', ' REVIEW', ' feel', ' very', ' obliged', ' share', ' views', ' about', ' this', ' old', ' workhorse', ' the', ' HP12C', ' GOLD', ' its', ' 25th', ' anniversary', ' and', ' 1Oth', ' year', ' as a', ' satisfied', ' ower', ' user', ' and', ' fan', ' Especially', ' after', ' sharing', ' frank', ' views', ' Amazon', ' about', ' two', ' its', ' three', ' successors', ' Amazon.', ' burying', ' the', ' HP12c', ' Platinum (', ' 1st', ' release', ' HP12cP', ' and', ' praising', ' the', ' HP12c', ' Platiunum', ' Anniversary', ' Edition (', ' 3rd', ' release', ' HP12cPAE', ' HP12cPA).', ' the', ' majority', ' 12c', ' calculator', ' owners', ' and', ' fans', ' including', ' the', ' non-', ' nerd', ' like', ' myself', ' the', ' name', ' Hewlett-', ' the', ' majority', ' 12c', ' calculator', ' owners', ' and', ' fans', ' The', ' brandname', ' Hewlett-', ' synonymous', ' with', ' the', ' highest', ' quality', ' and', ' best', ' offered', ' handheld', ' electronic', ' business', ' financial', ' calculators', ' before', ' the', ' first', ' generation', ' personal', ' computers', ' hits', ' the', ' desktops', ' business', ' users.', ' date (', ' 2007', ' the', ' bearer', ' this \"', ' standard', ' none', ' other', ' than', ' the', ' HP12C', \" HP's\", ' boy', ' its', ' calculator', ' business', ' segment.', ' HP12C', ' now a', ' matured', ' product', ' the', ' only', ' continuing', ' handheld', ' surviving', ' calculator', ' product', \" since '\", ' and', ' probably', ' the', ' longest', ' selling', ' electronic', ' calculator', ' ever', ' According', ' almost', ' million', ' 12Cs', ' cPs', ' was', ' sold', ' since ,', ' probably', ' the', ' best', ' selling', ' HP (', ' RPN', ' calculator', ' ever.', ' proven', ' product', ' the', ' HP12C \"', ' works', ' from', ' day 1', ' with', ' its', ' form', ' factor', ' and', ' sofware', ' remaining', ' unchanged', ' and', ' has', ' not', ' been', ' dethroned', ' rivals', ' and', ' even', ' its', ' successors', ' which', ' had', ' come', ' and', ' go.', ' with', ' software', ' versions', ' being', ' sold', ' the', ' 12C', ' remains', ' the', ' truly', ' indispensable \"', ' finance-', ' heldheld', ' computer', ' for', ' its', ' owners', ' professionals', ' and', ' students', ' alike', ' This', ' handy', ' companion', ' powers', ' immediately', ' and', ' faster', ' than', ' any', ' portable', ' personal', ' computers', ' jump', ' right', ' into', ' the', ' action.', ' HP12C', ' is a', ' serious', ' product', ' and', ' the', ' ultimate', ' time', ' tested', ' solution', ' field', ' tested', ' proven', ' its', ' users', ' and', ' survived', ' all', ' its', ' rival', ' products', ' the', ' workhorse', ' moves', ' on.', ' this', ' line', ' should', ' always', ' bear', ' mind', ' that', ' the', ' continued', ' production', ' run', ' the', ' 12c', ' is a', ' testimony', \" HP's\", ' quality', ' and', ' standard', ' expected', ' its', ' customers.', ' just', ' listen', ' to a', ' HP12C', ' fan', ' here', ' own', ' and', ' using', ' three', ' out', ' of 4', ' models', ' the', ' 12C', ' series', ' and', ' amusing', ' and', ' somewhat', ' disappointing', ' observe', ' that', ' had', ' taken', ' least', ' four', ' years', ' and', ' two', ' major', ' upgrades', ' the', ' 12c', ' Platinium', ' its', ' futile', ' attempt', ' to \"', ' retire', ' the', ' HP12C', ' with', ' three', ' successors', ' the', ' form', ' HP12cPlatinum', ' since', ' 2004.', ' would', ' seems', ' especially', ' frustrating', ' the', ' part', ' realize', ' after', ' all', ' the', ' effort', ' spent', ' remaking', ' the', ' HP12cPlatinum', ' models', ' that', ' would', ' not', ' outdone', ' its', ' the', ' HP10bII', ' and', ' HP17bII', ' series', ' seriously', ' the', ' HP12C', ' Gold', ' However', ' their', ' own', ' rights', ' the', ' HP10Bs', ' and', ' HP17Bs', ' and', ' the', ' HP12cPlatinum', ' may', ' find', ' their', ' rightful', ' place', ' the', ' financial', ' calculator', ' line', ' differentiating', ' the', ' HP12C', ' GOLD', ' terms', ' price', ' and', ' functions.', ' this', ' had', ' happened', ' because', ' the', ' following', ' golden', ' rules', ' were', ' infringed', ' RULE I', ' PRODUCT', ' WHICH', ' STILL', ' SELLS', ' ITSELF', ' NEVER', ' OBSOLETE.', ' RULE', \" AREN'T\", ' BROKEN', \" DON't\", ' FIX', ' gold', ' rule', ' thumb', ' should', ' always', ' guarded', ' gospel', ' the', ' heldheld', ' calculator', ' product', ' team', ' Based', ' the', ' same', ' reasoning', ' the', \" HP12C's\", ' built', ' quality', ' and', ' product', ' standard', ' paramount', ' its', ' users.', ' RULE', ' III', ' ALWAYS', ' LISTEN', ' YOUR', ' CUSTOMERS', ' doubt', ' see', ' rules I', ' II.', ' RULE', ' ONLY', ' OUTSOURCE', ' THE', ' MANUFACTURING', ' YOUR', ' PRODUCT', ' SOMEONE', ' WHO', ' COULD', ' BETTER', ' YOUR', ' OWN', ' PRODUCT', ' QUALITY', ' doubt', ' ask', ' IBM', ' about', ' Lenovo.', ' RULE V', ' THE', ' BENCHMARKING', ' INDUSTRY', ' STANDARD', ' FOR', ' THIS', ' PRODUCT', ' LINE', ' THE', ' HP12C', ' Just', ' case', ' does', ' not', ' know', ' not', ' listening', ' its', ' customers.', ' RULE', ' NOT', ' DISCONTINUE', ' THE', ' ICONIC', ' HP12C', ' GOLD', ' needs', ' reminder', ' that', ' the', ' customer', ' always', ' right', ' Please', ' let', ' your', ' customer', ' the', ' ultimate', ' market', ' force', ' decide', ' the', ' HP12C', ' should', ' ever', ' retired.', ' ardent', ' fan', ' HP12C', ' and', ' line', ' financial', ' business', ' scientific', ' calculators', ' the', ' view', ' that', ' the', ' day', ' when', ' discontinue', ' the', ' HP12C', ' would', ' the', ' day', ' exit', ' this', ' business', ' segment', ' speculate', ' this', ' would', ' happen', ' when', ' the', ' brandname', ' disappears', ' from', ' the', ' 12C', ' just', ' like', ' after', ' IBM', ' name', ' had', ' disappeared', ' from', ' ThinkPads', ' and', ' ThinkCentres.', ' the', ' price', ' GOLD', ' the', ' rise', ' indeed', ' puzzling', ' fans', ' the', ' HP12C', ' why', ' did', ' not', ' release a', ' genuine', ' HP12C', ' gold', ' 25th', ' anniversary', ' model', ' for', ' the', ' fans', ' mark', ' the', ' occasion', ' replacing', ' the', ' discontinuing', ' the', ' HP12C', ' GOLD', ' the', ' intention', ' READ', ' ALL', ' GOLDEN', ' RULES', ' above.', ' fair', ' the', ' silver', ' HP12c', ' Platinum', ' Anniversary', ' very', ' nice', ' and', ' has', ' spotted', ' the \"', ' silver', ' look', ' the', ' 11C', ' however', ' still', ' not', ' the', ' GOLD', ' standard', ' With', ' missing', ' this', ' golden', ' opportunity', ' mark', ' the', ' occasion', ' would', ' love', ' see', ' and', ' own a', ' 12C', ' engraved', ' with', ' 50th', ' Anniversary', ' reckon', ' that', ' this', ' would', ' the', ' ultimate', ' testimony', ' for', ' the', ' HP12C', ' and a', ' milestone', ' for', ' its', ' fans.', ' forward', ' GOLD', ' 50th', ' anniversary', ' HP12C', ' Anniversary', ' model', ' would', ' very', ' nice', ' for', ' the', ' fans.', ' this', ' is a', ' lucrative', ' business', ' proposition', ' now', ' they', ' would', ' have', ' realized', ' that', ' they', ' have', ' any', ' its', ' products', ' which', ' could', ' hit a', ' 50th', ' year', ' home', ' run', ' 2031', ' would', ' not', ' from', ' its', ' other', ' product', ' line-', ' would', ' this', ' original', ' HP12C', ' GOLD', ' standard', ' bearer', ' please', ' treat', ' the', ' old', ' workhorse', ' with', ' the', ' upmost', ' respect']\n"
          ],
          "name": "stdout"
        }
      ]
    },
    {
      "cell_type": "code",
      "metadata": {
        "id": "kEytWnPTIzbE",
        "colab_type": "code",
        "colab": {
          "base_uri": "https://localhost:8080/",
          "height": 35
        },
        "outputId": "d9da8c25-e783-4f1d-a5e5-a6ad173b26b3"
      },
      "source": [
        "str=\"The rain in boy ate a gobble frog Big Spain\"\n",
        "s = re.sub(r'[^\\w\\s]',' ',str) \n",
        "start_b=re.findall(r\"\\b[^\\WbB]\\w+\\b\",s)\n",
        "start_b\n",
        "sent= ' '.join([elem for elem in start_b])\n",
        "start_b_end_g=re.findall(r'\\b\\w+[^\\WgG]\\b',sent)\n",
        "print(start_b_end_g)\n",
        "#print(sent)"
      ],
      "execution_count": 5,
      "outputs": [
        {
          "output_type": "stream",
          "text": [
            "['The', 'rain', 'in', 'ate', 'gobble', 'Spain']\n"
          ],
          "name": "stdout"
        }
      ]
    },
    {
      "cell_type": "code",
      "metadata": {
        "id": "9BqFUaQpNu4a",
        "colab_type": "code",
        "colab": {}
      },
      "source": [
        "def begB_endG(text):\n",
        "  text=text.lower()\n",
        "  text = re.sub(r'[^\\w\\s]',' ',text)    \n",
        "  start_B=re.findall(r\"\\b[^\\WbB]\\w+\\b\",text)\n",
        "  sentence = ' '.join([elem for elem in start_B])\n",
        "  startB_endG = re.findall(r'\\b\\w+[^\\WgG]\\b', sentence)\n",
        "  #print(startB_endG)  \n",
        "  return set(startB_endG)"
      ],
      "execution_count": 0,
      "outputs": []
    },
    {
      "cell_type": "code",
      "metadata": {
        "id": "a13bFsRlOiPO",
        "colab_type": "code",
        "colab": {
          "base_uri": "https://localhost:8080/",
          "height": 225
        },
        "outputId": "993d3a9f-9a42-4d9c-b90f-7c75aafb4a60"
      },
      "source": [
        "data[\"b_g\"]=data.reviewText.apply(begB_endG)\n",
        "data[\"b_g\"]"
      ],
      "execution_count": 12,
      "outputs": [
        {
          "output_type": "execute_result",
          "data": {
            "text/plain": [
              "0        {programmable, up, old, even, about, what, too...\n",
              "1        {edition, field, why, range, rival, testimony,...\n",
              "2        {flawless, have, trouble, good, drops, hollow,...\n",
              "3        {why, those, simplicity, entered, they, perfor...\n",
              "4        {takes, you, reverse, move, course, and, anoth...\n",
              "                               ...                        \n",
              "53253    {have, you, can, cable, run, serves, and, very...\n",
              "53254    {warranty, functional, against, they, pound, f...\n",
              "53255    {spice, hesitant, 12, glass, lcd, has, up, old...\n",
              "53256    {virtually, can, you, move, clearly, marked, w...\n",
              "53257    {though, feature, against, looks, lcd, has, th...\n",
              "Name: b_g, Length: 53258, dtype: object"
            ]
          },
          "metadata": {
            "tags": []
          },
          "execution_count": 12
        }
      ]
    },
    {
      "cell_type": "code",
      "metadata": {
        "id": "whtNR1AyKFyN",
        "colab_type": "code",
        "colab": {}
      },
      "source": [
        "def notb_g(t):\n",
        "  t = re.sub(\"'\",\"\",text)\n",
        "  t = re.sub(\"[^a-zA-Z0-9]\",\" \",t)\n",
        "  startb = re.findall(r\"\\b(?!b)\\w+\",t,re.IGNORECASE)\n",
        "  startb_endg = [word for word in startb if word in re.findall(r\"\\w*(?<!g)\\b\",text,re.IGNORECASE)]          \n",
        "  return startb_endg"
      ],
      "execution_count": 0,
      "outputs": []
    },
    {
      "cell_type": "code",
      "metadata": {
        "id": "bUUfp0fLMGeP",
        "colab_type": "code",
        "colab": {}
      },
      "source": [
        "data['Text'] = data.reviewText.apply(notb_g)\n",
        "#data['Sum'] = data['summary'].apply(notb_g)"
      ],
      "execution_count": 0,
      "outputs": []
    },
    {
      "cell_type": "code",
      "metadata": {
        "id": "rIf09ZlIMuuh",
        "colab_type": "code",
        "colab": {}
      },
      "source": [
        ""
      ],
      "execution_count": 0,
      "outputs": []
    }
  ]
}